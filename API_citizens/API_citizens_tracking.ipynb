{
 "cells": [
  {
   "cell_type": "code",
   "execution_count": 8,
   "id": "5df971d1",
   "metadata": {},
   "outputs": [],
   "source": [
    "# ! pip install Flask gunicorn"
   ]
  },
  {
   "cell_type": "code",
   "execution_count": 20,
   "id": "ef622c23",
   "metadata": {},
   "outputs": [
    {
     "name": "stderr",
     "output_type": "stream",
     "text": [
      " * Running on http://localhost:9000/ (Press CTRL+C to quit)\n",
      "127.0.0.1 - - [06/Jun/2022 11:27:25] \"GET /citizens HTTP/1.1\" 200 -\n",
      "127.0.0.1 - - [06/Jun/2022 11:27:51] \"GET /citizens HTTP/1.1\" 200 -\n",
      "127.0.0.1 - - [06/Jun/2022 11:27:56] \"GET /citizens HTTP/1.1\" 200 -\n",
      "127.0.0.1 - - [06/Jun/2022 11:28:01] \"GET /citizens HTTP/1.1\" 200 -\n",
      "127.0.0.1 - - [06/Jun/2022 11:28:06] \"GET /citizens HTTP/1.1\" 200 -\n",
      "127.0.0.1 - - [06/Jun/2022 11:28:11] \"GET /citizens HTTP/1.1\" 200 -\n",
      "127.0.0.1 - - [06/Jun/2022 11:28:16] \"GET /citizens HTTP/1.1\" 200 -\n",
      "127.0.0.1 - - [06/Jun/2022 11:28:21] \"GET /citizens HTTP/1.1\" 200 -\n",
      "127.0.0.1 - - [06/Jun/2022 11:28:26] \"GET /citizens HTTP/1.1\" 200 -\n",
      "127.0.0.1 - - [06/Jun/2022 11:28:31] \"GET /citizens HTTP/1.1\" 200 -\n",
      "127.0.0.1 - - [06/Jun/2022 11:28:36] \"GET /citizens HTTP/1.1\" 200 -\n",
      "127.0.0.1 - - [06/Jun/2022 11:28:41] \"GET /citizens HTTP/1.1\" 200 -\n",
      "127.0.0.1 - - [06/Jun/2022 11:28:46] \"GET /citizens HTTP/1.1\" 200 -\n",
      "127.0.0.1 - - [06/Jun/2022 11:28:51] \"GET /citizens HTTP/1.1\" 200 -\n",
      "127.0.0.1 - - [06/Jun/2022 11:28:56] \"GET /citizens HTTP/1.1\" 200 -\n",
      "127.0.0.1 - - [06/Jun/2022 11:29:01] \"GET /citizens HTTP/1.1\" 200 -\n",
      "127.0.0.1 - - [06/Jun/2022 11:29:06] \"GET /citizens HTTP/1.1\" 200 -\n",
      "127.0.0.1 - - [06/Jun/2022 11:29:11] \"GET /citizens HTTP/1.1\" 200 -\n",
      "127.0.0.1 - - [06/Jun/2022 11:29:16] \"GET /citizens HTTP/1.1\" 200 -\n",
      "127.0.0.1 - - [06/Jun/2022 11:29:21] \"GET /citizens HTTP/1.1\" 200 -\n",
      "127.0.0.1 - - [06/Jun/2022 11:29:26] \"GET /citizens HTTP/1.1\" 200 -\n",
      "127.0.0.1 - - [06/Jun/2022 11:29:31] \"GET /citizens HTTP/1.1\" 200 -\n",
      "127.0.0.1 - - [06/Jun/2022 11:29:36] \"GET /citizens HTTP/1.1\" 200 -\n",
      "127.0.0.1 - - [06/Jun/2022 11:29:41] \"GET /citizens HTTP/1.1\" 200 -\n",
      "127.0.0.1 - - [06/Jun/2022 11:29:46] \"GET /citizens HTTP/1.1\" 200 -\n",
      "127.0.0.1 - - [06/Jun/2022 11:29:51] \"GET /citizens HTTP/1.1\" 200 -\n",
      "127.0.0.1 - - [06/Jun/2022 11:29:56] \"GET /citizens HTTP/1.1\" 200 -\n",
      "127.0.0.1 - - [06/Jun/2022 11:30:01] \"GET /citizens HTTP/1.1\" 200 -\n",
      "127.0.0.1 - - [06/Jun/2022 11:30:06] \"GET /citizens HTTP/1.1\" 200 -\n",
      "127.0.0.1 - - [06/Jun/2022 11:30:11] \"GET /citizens HTTP/1.1\" 200 -\n",
      "127.0.0.1 - - [06/Jun/2022 11:30:16] \"GET /citizens HTTP/1.1\" 200 -\n",
      "127.0.0.1 - - [06/Jun/2022 11:30:21] \"GET /citizens HTTP/1.1\" 200 -\n",
      "127.0.0.1 - - [06/Jun/2022 11:30:26] \"GET /citizens HTTP/1.1\" 200 -\n",
      "127.0.0.1 - - [06/Jun/2022 11:30:31] \"GET /citizens HTTP/1.1\" 200 -\n",
      "127.0.0.1 - - [06/Jun/2022 11:30:36] \"GET /citizens HTTP/1.1\" 200 -\n",
      "127.0.0.1 - - [06/Jun/2022 11:30:41] \"GET /citizens HTTP/1.1\" 200 -\n",
      "127.0.0.1 - - [06/Jun/2022 11:30:46] \"GET /citizens HTTP/1.1\" 200 -\n",
      "127.0.0.1 - - [06/Jun/2022 11:30:51] \"GET /citizens HTTP/1.1\" 200 -\n",
      "127.0.0.1 - - [06/Jun/2022 11:30:56] \"GET /citizens HTTP/1.1\" 200 -\n",
      "127.0.0.1 - - [06/Jun/2022 11:31:01] \"GET /citizens HTTP/1.1\" 200 -\n",
      "127.0.0.1 - - [06/Jun/2022 11:31:06] \"GET /citizens HTTP/1.1\" 200 -\n"
     ]
    }
   ],
   "source": [
    "import json\n",
    "import random\n",
    "\n",
    "from werkzeug.wrappers import Response\n",
    "from flask import Flask\n",
    "\n",
    "app = Flask(__name__)\n",
    "moving = 0.0003\n",
    "\n",
    "with open('citizens.json') as file:\n",
    "    data = json.load(file)\n",
    "\n",
    "@app.route('/')\n",
    "def home():\n",
    "    return '<h1>Hello world!</h1>'\n",
    "\n",
    "\n",
    "@app.route('/citizens')\n",
    "def get_citizens_data():\n",
    "    for citizen in data['citizens']:\n",
    "        citizen[4] += random.uniform(-moving, moving)\n",
    "        citizen[5] += random.uniform(-moving, moving)\n",
    "        \n",
    "    return Response(json.dumps(data), mimetype='application/json')\n",
    "\n",
    "\n",
    "if __name__ == '__main__':\n",
    "    from werkzeug.serving import run_simple\n",
    "    \n",
    "    run_simple('localhost', 9000, app)"
   ]
  },
  {
   "cell_type": "code",
   "execution_count": null,
   "id": "de6813d1",
   "metadata": {},
   "outputs": [],
   "source": []
  }
 ],
 "metadata": {
  "kernelspec": {
   "display_name": "Python 3 (ipykernel)",
   "language": "python",
   "name": "python3"
  },
  "language_info": {
   "codemirror_mode": {
    "name": "ipython",
    "version": 3
   },
   "file_extension": ".py",
   "mimetype": "text/x-python",
   "name": "python",
   "nbconvert_exporter": "python",
   "pygments_lexer": "ipython3",
   "version": "3.9.7"
  }
 },
 "nbformat": 4,
 "nbformat_minor": 5
}
