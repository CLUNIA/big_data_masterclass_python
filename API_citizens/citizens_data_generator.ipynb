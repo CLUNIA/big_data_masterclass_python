{
 "cells": [
  {
   "cell_type": "code",
   "execution_count": 28,
   "id": "e6c23734",
   "metadata": {},
   "outputs": [],
   "source": [
    "import json\n",
    "\n",
    "from time import time\n",
    "from random import randint, uniform\n",
    "\n",
    "\n",
    "lon_min, lat_min = -3.6400, 40.3900\n",
    "lon_max, lat_max = -3.7650, 40.4400\n",
    "citizens = {'citizens': []}\n",
    "\n",
    "\n",
    "def get_rand_dni():\n",
    "    possible_letters = (\n",
    "        'T', 'R', 'W', 'A', 'G', 'M', 'Y', 'F', 'P', 'D', 'X', 'B',\n",
    "        'N', 'J', 'Z', 'S', 'Q', 'V', 'H', 'L', 'C', 'K', 'E',\n",
    "    )\n",
    "    number = randint(10000000, 99999999)\n",
    "    letter = possible_letters[number % 22]\n",
    "    \n",
    "    return f'{number}{letter}'\n",
    "\n",
    "def get_age():\n",
    "    return randint(10, 85)\n",
    "\n",
    "def get_lon():\n",
    "    return uniform(lon_min, lon_max)\n",
    "\n",
    "def get_lat():\n",
    "    return uniform(lat_min, lat_max)\n",
    "\n",
    "\n",
    "with open('citizens.txt', 'r', encoding='utf-8') as file:\n",
    "    for name in file:\n",
    "        dni = get_rand_dni()\n",
    "        age = get_age()\n",
    "        time_position = int(time())\n",
    "        lon = get_lon()\n",
    "        lat = get_lat()\n",
    "        citizens['citizens'].append([dni, name.strip(), age, time_position, lon, lat])\n",
    "\n",
    "with open('citizens.json', 'w', encoding='utf-8') as outfile:\n",
    "    json.dump(citizens, outfile, ensure_ascii=False)"
   ]
  },
  {
   "cell_type": "code",
   "execution_count": null,
   "id": "b4ab9e22",
   "metadata": {},
   "outputs": [],
   "source": []
  }
 ],
 "metadata": {
  "kernelspec": {
   "display_name": "Python 3 (ipykernel)",
   "language": "python",
   "name": "python3"
  },
  "language_info": {
   "codemirror_mode": {
    "name": "ipython",
    "version": 3
   },
   "file_extension": ".py",
   "mimetype": "text/x-python",
   "name": "python",
   "nbconvert_exporter": "python",
   "pygments_lexer": "ipython3",
   "version": "3.9.7"
  }
 },
 "nbformat": 4,
 "nbformat_minor": 5
}
