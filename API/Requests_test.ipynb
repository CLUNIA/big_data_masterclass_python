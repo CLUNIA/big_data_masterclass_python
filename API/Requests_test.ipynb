{
 "cells": [
  {
   "cell_type": "code",
   "execution_count": 2,
   "id": "85debb46",
   "metadata": {},
   "outputs": [
    {
     "name": "stdout",
     "output_type": "stream",
     "text": [
      "Error: HTTPConnectionPool(host='localhost', port=9000): Max retries exceeded with url: /alumnos (Caused by NewConnectionError('<urllib3.connection.HTTPConnection object at 0x7f1ac0562820>: Failed to establish a new connection: [Errno 111] Connection refused'))\n"
     ]
    }
   ],
   "source": [
    "import requests\n",
    "\n",
    "url = 'http://localhost:9000/alumnos'\n",
    "\n",
    "response = requests.get(url)\n",
    "\n",
    "print(f'Respuesta obtenida en {response.elapsed.total_seconds()} segundos.')"
   ]
  },
  {
   "cell_type": "code",
   "execution_count": null,
   "id": "7d58315c",
   "metadata": {},
   "outputs": [],
   "source": []
  }
 ],
 "metadata": {
  "kernelspec": {
   "display_name": "Python 3 (ipykernel)",
   "language": "python",
   "name": "python3"
  },
  "language_info": {
   "codemirror_mode": {
    "name": "ipython",
    "version": 3
   },
   "file_extension": ".py",
   "mimetype": "text/x-python",
   "name": "python",
   "nbconvert_exporter": "python",
   "pygments_lexer": "ipython3",
   "version": "3.9.12"
  }
 },
 "nbformat": 4,
 "nbformat_minor": 5
}
