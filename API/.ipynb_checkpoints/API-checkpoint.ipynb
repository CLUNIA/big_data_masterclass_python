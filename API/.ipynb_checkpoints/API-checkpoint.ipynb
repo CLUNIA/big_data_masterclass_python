{
 "cells": [
  {
   "cell_type": "code",
   "execution_count": 8,
   "id": "5df971d1",
   "metadata": {},
   "outputs": [],
   "source": [
    "# ! pip install Flask gunicorn\n",
    "# Esta linea es para borrar"
   ]
  },
  {
   "cell_type": "code",
   "execution_count": 1,
   "id": "ef622c23",
   "metadata": {},
   "outputs": [
    {
     "name": "stderr",
     "output_type": "stream",
     "text": [
      " * Running on http://localhost:9000/ (Press CTRL+C to quit)\n",
      "127.0.0.1 - - [21/Jun/2022 20:44:29] \"GET / HTTP/1.1\" 200 -\n",
      "127.0.0.1 - - [21/Jun/2022 20:44:29] \"GET /favicon.ico HTTP/1.1\" 404 -\n",
      "127.0.0.1 - - [21/Jun/2022 20:44:46] \"GET /alumnos HTTP/1.1\" 200 -\n",
      "127.0.0.1 - - [21/Jun/2022 20:45:34] \"GET /alumnos HTTP/1.1\" 200 -\n",
      "127.0.0.1 - - [21/Jun/2022 20:45:48] \"GET /alumnos HTTP/1.1\" 200 -\n"
     ]
    }
   ],
   "source": [
    "import json\n",
    "\n",
    "from werkzeug.wrappers import Response\n",
    "from flask import Flask\n",
    "\n",
    "app = Flask(__name__)\n",
    "\n",
    "@app.route('/')\n",
    "def home():\n",
    "    return '<h1>Hola mundo!</h1>'\n",
    "\n",
    "@app.route('/alumnos')\n",
    "def get_alumnos():\n",
    "    data = {\n",
    "        'centro': 'Universidad Complutense de Madrid',\n",
    "        'alumnos': [\n",
    "            {'id': '00', 'matricula': '2022QSPM', 'nombre': 'Mari Carmen', 'apellidos': 'García', 'clase': 'A'},\n",
    "            {'id': '01', 'matricula': '2022NDFK', 'nombre': 'Antonio', 'apellidos': 'Rodríguez', 'clase': 'A'},\n",
    "            {'id': '02', 'matricula': '2022KWSH', 'nombre': 'María', 'apellidos': 'González', 'clase': 'B'},\n",
    "            {'id': '03', 'matricula': '2022ZMLD', 'nombre': 'Manuel', 'apellidos': 'Fernández', 'clase': 'A'},\n",
    "            {'id': '04', 'matricula': '2022POWM', 'nombre': 'Carmen', 'apellidos': 'López', 'clase': 'A'},\n",
    "            {'id': '05', 'matricula': '2022LJBF', 'nombre': 'Jose', 'apellidos': 'Martínez', 'clase': 'B'},\n",
    "            {'id': '06', 'matricula': '2022GQKD', 'nombre': 'Ana María', 'apellidos': 'Sánchez', 'clase': 'B'},\n",
    "            {'id': '07', 'matricula': '2022KJEM', 'nombre': 'Francisco', 'apellidos': 'Pérez', 'clase': 'A'},\n",
    "            {'id': '08', 'matricula': '2022TTMK', 'nombre': 'María Pilar', 'apellidos': 'Gómez', 'clase': 'A'},\n",
    "            {'id': '09', 'matricula': '2022EFRW', 'nombre': 'David', 'apellidos': 'Martín', 'clase': 'A'},\n",
    "            {'id': '10', 'matricula': '2022LWJB', 'nombre': 'Laura', 'apellidos': 'Jiménez', 'clase': 'B'},\n",
    "            {'id': '11', 'matricula': '2022GFDV', 'nombre': 'Juan', 'apellidos': 'Hernández', 'clase': 'B'},\n",
    "            {'id': '12', 'matricula': '2022MKWX', 'nombre': 'Josefa', 'apellidos': 'Ruíz', 'clase': 'B'},\n",
    "            {'id': '13', 'matricula': '2022NSHC', 'nombre': 'Javier', 'apellidos': 'Díaz', 'clase': 'A'},\n",
    "            {'id': '14', 'matricula': '2022PCER', 'nombre': 'Isabel', 'apellidos': 'Moreno', 'clase': 'B'},\n",
    "            {'id': '15', 'matricula': '2022AHIV', 'nombre': 'Jose Antonio', 'apellidos': 'Muñoz', 'clase': 'A'},\n",
    "            {'id': '16', 'matricula': '2022MCTM', 'nombre': 'María Dolores', 'apellidos': 'Álvarez', 'clase': 'B'}\n",
    "        ]\n",
    "    }\n",
    "    return Response(json.dumps(data),  mimetype='application/json')\n",
    "\n",
    "if __name__ == '__main__':\n",
    "    from werkzeug.serving import run_simple\n",
    "    \n",
    "    run_simple('localhost', 9000, app)"
   ]
  },
  {
   "cell_type": "code",
   "execution_count": null,
   "id": "de6813d1",
   "metadata": {},
   "outputs": [],
   "source": []
  }
 ],
 "metadata": {
  "kernelspec": {
   "display_name": "Python 3 (ipykernel)",
   "language": "python",
   "name": "python3"
  },
  "language_info": {
   "codemirror_mode": {
    "name": "ipython",
    "version": 3
   },
   "file_extension": ".py",
   "mimetype": "text/x-python",
   "name": "python",
   "nbconvert_exporter": "python",
   "pygments_lexer": "ipython3",
   "version": "3.9.7"
  }
 },
 "nbformat": 4,
 "nbformat_minor": 5
}
